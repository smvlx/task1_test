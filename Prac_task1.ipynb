{
 "cells": [
  {
   "cell_type": "code",
   "execution_count": 25,
   "metadata": {
    "collapsed": true
   },
   "outputs": [],
   "source": [
    "import numpy as np\n",
    "from scipy.optimize import linprog\n",
    "\n",
    "def nash_equlibrium(a):\n",
    "    m, n = a.shape \n",
    "    \n",
    "    #здесь минимизируем со знаком > (lines)\n",
    "    c = np.ones((m,))\n",
    "    b_ub = np.ones((n,))\n",
    "    b_ub = -1 * b_ub\n",
    "    a_new = -1 * np.transpose(a)\n",
    "    res1 = linprog(c, A_ub = a_new, b_ub = b_ub)\n",
    "    v, p = 1.0/res1.fun, res1.x\n",
    "    p = v * p\n",
    "    \n",
    "    #максимизируем со знаком < (columns)\n",
    "    c2 = np.ones((n,))\n",
    "    c2 = -1 * c2\n",
    "    b_ub2 = np.ones((m,))\n",
    "    res2 = linprog(c2, A_ub = a, b_ub = b_ub2)\n",
    "    q = res2.x\n",
    "    q = v * q\n",
    "    return v, p, q\n",
    "\n"
   ]
  },
  {
   "cell_type": "code",
   "execution_count": 5,
   "metadata": {},
   "outputs": [
    {
     "name": "stdout",
     "output_type": "stream",
     "text": [
      "0.888888888889 [ 0.55555556  0.44444444] [ 0.77777778  0.          0.22222222]\n"
     ]
    }
   ],
   "source": [
    "a = np.array([[0, 2], [3, 1], [4, -3]])\n",
    "v, p, q = nash_equlibrium(np.transpose(a))\n",
    "print(v, p, q)"
   ]
  },
  {
   "cell_type": "code",
   "execution_count": 26,
   "metadata": {},
   "outputs": [
    {
     "name": "stdout",
     "output_type": "stream",
     "text": [
      "v = 4.87096774194 \n",
      " p = [ 0.          0.12903226  0.09677419  0.43548387  0.33870968  0.        ] \n",
      " q = [ 0.          0.          0.69086022  0.14516129  0.14784946  0.01612903]\n"
     ]
    }
   ],
   "source": [
    "a = np.array([[4,0,6,2,2,1],\n",
    "              [3,8,4,10,4,4],\n",
    "              [1,2,6,5,0,0],\n",
    "              [6,6,4,4,10,3],\n",
    "              [10,4,6,4,0,9],\n",
    "              [10,7,0,7,9,8]])\n",
    "v, p, q = nash_equlibrium(a)\n",
    "print('v =', v, '\\n','p =', p, '\\n','q =', q)"
   ]
  },
  {
   "cell_type": "code",
   "execution_count": 80,
   "metadata": {},
   "outputs": [
    {
     "data": {
      "image/png": "[encoded data removed]",
      "text/plain": [
       "<matplotlib.figure.Figure at 0x1173e6eb8>"
      ]
     },
     "metadata": {},
     "output_type": "display_data"
    }
   ],
   "source": [
    "import matplotlib.pyplot as plt\n",
    "m, n = a.shape\n",
    "\n",
    "plt.plot(range(1,n + 1), p, 'ro')\n",
    "plt.axis([0, n + 1, 0, max(p) + 0.1])\n",
    "plt.show()"
   ]
  },
  {
   "cell_type": "code",
   "execution_count": 65,
   "metadata": {},
   "outputs": [
    {
     "data": {
      "image/png": "[encoded data removed]",
      "text/plain": [
       "<matplotlib.figure.Figure at 0x11791e390>"
      ]
     },
     "metadata": {},
     "output_type": "display_data"
    }
   ],
   "source": [
    "plt.scatter(range(1,n+1), p, marker = \"*\")\n",
    "plt.plot(1, range(0, ))\n",
    "plt.show()"
   ]
  },
  {
   "cell_type": "code",
   "execution_count": 37,
   "metadata": {},
   "outputs": [
    {
     "data": {
      "image/png": "[encoded data removed]",
      "text/plain": [
       "<matplotlib.figure.Figure at 0x116ef8dd8>"
      ]
     },
     "metadata": {},
     "output_type": "display_data"
    }
   ],
   "source": [
    "plt.scatter(range(1,m+1), q)\n",
    "plt.show()"
   ]
  },
  {
   "cell_type": "code",
   "execution_count": 7,
   "metadata": {},
   "outputs": [
    {
     "data": {
      "image/png": "[encoded data removed]",
      "text/plain": [
       "<matplotlib.figure.Figure at 0x112828208>"
      ]
     },
     "metadata": {},
     "output_type": "display_data"
    }
   ],
   "source": [
    "plt.plot(range(1,m + 1), q, 'ro')\n",
    "plt.axis([0, m + 1, 0, max(q) + 0.1])\n",
    "plt.show()"
   ]
  },
  {
   "cell_type": "code",
   "execution_count": 76,
   "metadata": {},
   "outputs": [
    {
     "name": "stdout",
     "output_type": "stream",
     "text": [
      "v = 4.875 \n",
      " p = [ 0.     0.     0.625  0.375] \n",
      " q = [ 0.375  0.625  0.     0.   ]\n"
     ]
    }
   ],
   "source": [
    "a = np.array([[5, 3, 5, 3], [5, 4, 5, 5], [3, 6, 7, 6], [8, 3, 4, 3]])\n",
    "v, p, q = nash_equlibrium(a)\n",
    "print('v =', v, '\\n','p =', p, '\\n','q =', q)"
   ]
  },
  {
   "cell_type": "code",
   "execution_count": 77,
   "metadata": {},
   "outputs": [
    {
     "data": {
      "image/png": "[encoded data removed]",
      "text/plain": [
       "<matplotlib.figure.Figure at 0x117565c88>"
      ]
     },
     "metadata": {},
     "output_type": "display_data"
    }
   ],
   "source": [
    "plt.scatter(range(1,n+1), p, marker = \"*\")\n",
    "plt.show()"
   ]
  },
  {
   "cell_type": "code",
   "execution_count": 74,
   "metadata": {},
   "outputs": [
    {
     "name": "stdout",
     "output_type": "stream",
     "text": [
      "v = 3.66666666667 \n",
      " p = [ 0.66666667  0.          0.33333333  0.        ] \n",
      " q = [ 0.          0.66666667  0.33333333  0.        ]\n"
     ]
    }
   ],
   "source": [
    "a = np.array([[6, 4, 3, 6], [2, 3, 5, 1], [1, 3, 5, 0], [6, 4, 3, 6]])\n",
    "v, p, q = nash_equlibrium(a)\n",
    "print('v =', v, '\\n','p =', p, '\\n','q =', q)"
   ]
  },
  {
   "cell_type": "code",
   "execution_count": 78,
   "metadata": {},
   "outputs": [
    {
     "name": "stdout",
     "output_type": "stream",
     "text": [
      "v = 2.5 \n",
      " p = [ 0.25  0.75] \n",
      " q = [ 0.5  0.5]\n"
     ]
    }
   ],
   "source": [
    "a = np.array([[1, 4], [3, 2]])\n",
    "v, p, q = nash_equlibrium(a)\n",
    "print('v =', v, '\\n','p =', p, '\\n','q =', q)"
   ]
  },
  {
   "cell_type": "code",
   "execution_count": 79,
   "metadata": {},
   "outputs": [
    {
     "name": "stdout",
     "output_type": "stream",
     "text": [
      "v = 7.0 \n",
      " p = [ 0.  1.  0.] \n",
      " q = [ 0.  1.  0.]\n"
     ]
    }
   ],
   "source": [
    "a = np.array([[5, 6, 8], \n",
    "              [9, 7, 8], \n",
    "              [7, 5, 6]])\n",
    "v, p, q = nash_equlibrium(a)\n",
    "print('v =', v, '\\n','p =', p, '\\n','q =', q)"
   ]
  },
  {
   "cell_type": "code",
   "execution_count": null,
   "metadata": {
    "collapsed": true
   },
   "outputs": [],
   "source": []
  }
 ],
 "metadata": {
  "kernelspec": {
   "display_name": "Python 3",
   "language": "python",
   "name": "python3"
  },
  "language_info": {
   "codemirror_mode": {
    "name": "ipython",
    "version": 3
   },
   "file_extension": ".py",
   "mimetype": "text/x-python",
   "name": "python",
   "nbconvert_exporter": "python",
   "pygments_lexer": "ipython3",
   "version": "3.6.1"
  }
 },
 "nbformat": 4,
 "nbformat_minor": 2
}
